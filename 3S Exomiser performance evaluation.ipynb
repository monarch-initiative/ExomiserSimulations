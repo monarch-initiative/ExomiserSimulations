{
 "cells": [
  {
   "cell_type": "markdown",
   "metadata": {},
   "source": [
    "# 3S Exomiser performance evaluation\n",
    "\n",
    "This notebook plots comparison of Exomiser performance with or without 3S module. The performance is evaluated on ~500 cases.\n"
   ]
  },
  {
   "cell_type": "code",
   "execution_count": null,
   "metadata": {},
   "outputs": [],
   "source": [
    "%matplotlib inline\n",
    "\n",
    "import os\n",
    "import numpy as np\n",
    "import pandas as pd\n",
    "import matplotlib.pyplot as plt\n",
    "from matplotlib.patches import Ellipse\n",
    "import seaborn as sns\n",
    "\n",
    "from curation import group_pathomechanism_for_threes_evaluation, load_data, plot_multicolor\n",
    "\n",
    "sns.set_style('whitegrid')\n",
    "\n",
    "data_dir = \"/Users/danisd/data/threes-simulations\"\n",
    "#data_dir = \"/home/ielis/data/threes-simulations\""
   ]
  },
  {
   "cell_type": "markdown",
   "metadata": {},
   "source": [
    "There were multiple rows of evaluation:\n",
    "- [First](#20190711) - setting up the baseline\n",
    "- [Second](#20190812) - improving rank of variants which are scored well using SPLICING scorer but for other reasons are not ranked well\n",
    "- [Third](#20190813) - aimed to improve performance of variants located deep in intron which usually lead to activation of the CSS"
   ]
  },
  {
   "cell_type": "markdown",
   "metadata": {},
   "source": [
    "## 20190711"
   ]
  },
  {
   "cell_type": "markdown",
   "metadata": {},
   "source": [
    "## Read simulations output\n",
    "\n",
    "Read the `ranks.tsv` file.\n",
    "\n",
    "### Melt the rows with multiple `PATHOMECHANISM` entries\n",
    "Some lines represent cases where variants with multiple pathomechanisms were present. \n",
    "\n",
    "E.g.: `PMID:24704046-Mattioli-2014-FANCA-proband_II-1\t1\t1\tsplicing|3ss|disrupted;splicing|SRE`\n",
    "\n",
    "We split such line into two lines where value from `PATHOMECHANISM` column is distributed into two rows. Other values stay the same.\n",
    "\n",
    "### Remove lines representing non-splicing pathomechanisms\n",
    "\n",
    "Lines with pathomechanism such as `coding|missense` are removed."
   ]
  },
  {
   "cell_type": "code",
   "execution_count": null,
   "metadata": {},
   "outputs": [],
   "source": [
    "version = \"20190711\"\n",
    "FPATH = \"{0}/{1}-output-checked/{1}-ranks.tsv\".format(data_dir, version)\n",
    "df20190711 = load_data(FPATH)\n",
    "\n",
    "ho = np.sort(df20190711['PATHOGRP'].unique())\n",
    "df20190711.head()"
   ]
  },
  {
   "cell_type": "markdown",
   "metadata": {},
   "source": [
    "## Which pathomechanisms are being discovered?"
   ]
  },
  {
   "cell_type": "code",
   "execution_count": null,
   "metadata": {},
   "outputs": [],
   "source": [
    "fig, ax = plt.subplots(figsize=(12, 8))\n",
    "plot_multicolor(df20190711.WITH_SPLICING, df20190711.WITHOUT_SPLICING, df20190711.PATHOGRP, ho, ax=ax)\n",
    "\n",
    "e20190711 = Ellipse((120, 50), width=130, height=100, facecolor='none', edgecolor=\"red\")\n",
    "k = ax.add_patch(e20190711)"
   ]
  },
  {
   "cell_type": "markdown",
   "metadata": {},
   "source": [
    "**Interpretation**\n",
    "\n",
    "The red ellipse denotes cases where the SPLICING score was more like a burden than like an asset. These cases were looked at and fixed, whenever it was possible.\n",
    "\n",
    "Some cases lacked a good phenotype terms resulting in low Phenotype Score. The other cases lacked the second variant required for correct identification of COMPHET inheritance.\n",
    "\n",
    "After fixing these issues, the analysis was run again producing the dataset denoted as *20190812*. The new dataset is analyzed below."
   ]
  },
  {
   "cell_type": "markdown",
   "metadata": {},
   "source": [
    "## 20190812\n",
    "\n",
    "The second round of evaluation on adjusted phenopackets."
   ]
  },
  {
   "cell_type": "markdown",
   "metadata": {},
   "source": [
    "### Cases where Exomiser performed better _without_ SPLICING score"
   ]
  },
  {
   "cell_type": "code",
   "execution_count": null,
   "metadata": {},
   "outputs": [],
   "source": [
    "version = \"20190812\"\n",
    "where_to_save = \"{0}/{1}-output-checked/{1}-to_improve.tsv\".format(data_dir, version)\n",
    "df20190711.loc[(df20190711.WITH_SPLICING > 50) & (df20190711.WITH_SPLICING < 200), :].to_csv(where_to_save, sep=\"\\t\")"
   ]
  },
  {
   "cell_type": "markdown",
   "metadata": {},
   "source": [
    "Analysis was done here, Exomiser was run again, either using or not using the `SPLICING` score. Results were written to `20190812-ranks.tsv` file."
   ]
  },
  {
   "cell_type": "code",
   "execution_count": null,
   "metadata": {},
   "outputs": [],
   "source": [
    "FPATH = \"{0}/{1}-output-checked/{1}-ranks.tsv\".format(data_dir, version)\n",
    "df20190812 = load_data(FPATH)\n",
    "\n",
    "ho = np.sort(df20190812['PATHOGRP'].unique())\n",
    "df20190812.head()"
   ]
  },
  {
   "cell_type": "markdown",
   "metadata": {},
   "source": [
    "## Which pathomechanisms are being discovered?"
   ]
  },
  {
   "cell_type": "code",
   "execution_count": null,
   "metadata": {},
   "outputs": [],
   "source": [
    "fig, ax = plt.subplots(figsize=(12, 8))\n",
    "plot_multicolor(df20190812.WITH_SPLICING, df20190812.WITHOUT_SPLICING, df20190812.PATHOGRP, ho, ax=ax)\n",
    "\n",
    "e20190711 = Ellipse((120, 50), width=130, height=100, facecolor='none', edgecolor=\"red\")\n",
    "k = ax.add_patch(e20190711)"
   ]
  },
  {
   "cell_type": "markdown",
   "metadata": {},
   "source": [
    "## Comparison of 20190711 and 20190812\n"
   ]
  },
  {
   "cell_type": "code",
   "execution_count": null,
   "metadata": {},
   "outputs": [],
   "source": [
    "fig, ax = plt.subplots(1, 2, figsize=(22, 8), dpi=200, sharey=True)\n",
    "plot_multicolor(df20190711.WITH_SPLICING, df20190711.WITHOUT_SPLICING, df20190711.PATHOGRP, ho, ax=ax[0])\n",
    "plot_multicolor(df20190812.WITH_SPLICING, df20190812.WITHOUT_SPLICING, df20190812.PATHOGRP, ho, ax=ax[1])\n",
    "\n",
    "e20190711 = Ellipse((120, 50), width=130, height=100, facecolor='none', edgecolor=\"red\")\n",
    "ax[0].add_patch(e20190711);\n",
    "\n",
    "# the same ellipse but for different plot\n",
    "e20190812 = Ellipse((120, 50), width=130, height=100, facecolor='none', edgecolor=\"red\")\n",
    "ax[1].add_patch(e20190812);"
   ]
  },
  {
   "cell_type": "markdown",
   "metadata": {},
   "source": [
    "**Interpretation**\n",
    "\n",
    "There are more cases under the line and between `50 <--> 200` on *WITH SPLICING* axis on the left plot. Adding the 2nd variant in COMPHET cases, and addidtional HP terms in other cases obviously helped.\n",
    "\n",
    "Most of the cases from the ellipse has moved into rank ~1, which is the expected behaviour. The rest of the cases cannot be improved at the moment."
   ]
  },
  {
   "cell_type": "markdown",
   "metadata": {},
   "source": [
    "## 20190813\n",
    "\n",
    "Take a look at the cases further up along the `WITH SPLICING` axis (denoted as <span style=\"color:blue\">blue ellipse</span>).\n",
    "\n",
    "We will denote this dataset as **20190813**."
   ]
  },
  {
   "cell_type": "code",
   "execution_count": null,
   "metadata": {},
   "outputs": [],
   "source": [
    "fig, ax = plt.subplots(figsize=(12, 8))\n",
    "plot_multicolor(df20190812.WITH_SPLICING, df20190812.WITHOUT_SPLICING, df20190812.PATHOGRP, ho, ax=ax)\n",
    "\n",
    "e20190711 = Ellipse((315, 115), width=280, height=150, angle=35, facecolor='none', edgecolor=\"blue\")\n",
    "k = ax.add_patch(e20190711)"
   ]
  },
  {
   "cell_type": "markdown",
   "metadata": {},
   "source": [
    "## Cases where Exomiser performed better _without_ SPLICING score"
   ]
  },
  {
   "cell_type": "code",
   "execution_count": null,
   "metadata": {},
   "outputs": [],
   "source": [
    "version = \"20190813\"\n",
    "os.makedirs(\"{0}/{1}-output-checked\".format(data_dir, version), exist_ok=True)\n",
    "\n",
    "where_to_save = \"{0}/{1}-output-checked/{1}-to_improve.tsv\".format(data_dir, version)\n",
    "df20190812.loc[(df20190812.WITH_SPLICING > 200) & (df20190812.WITH_SPLICING < 450), :].to_csv(where_to_save, sep=\"\\t\", index=False)"
   ]
  },
  {
   "cell_type": "markdown",
   "metadata": {},
   "source": [
    "Exomiser was run again, and intronic variants up to 500bp away from exon/intron boundary were evaluated. As previously, each case was analyzed either using or not using the `SPLICING` score. Results were written to `20190813-ranks.tsv` file."
   ]
  },
  {
   "cell_type": "code",
   "execution_count": null,
   "metadata": {},
   "outputs": [],
   "source": [
    "FPATH = \"{0}/{1}-output-checked/{1}-ranks.tsv\".format(data_dir, version)\n",
    "df20190813 = load_data(FPATH)\n",
    "\n",
    "ho = np.sort(df20190813['PATHOGRP'].unique())\n",
    "df20190813.head()"
   ]
  },
  {
   "cell_type": "markdown",
   "metadata": {},
   "source": [
    "## Which pathomechanisms are being discovered?"
   ]
  },
  {
   "cell_type": "code",
   "execution_count": null,
   "metadata": {},
   "outputs": [],
   "source": [
    "fig, ax = plt.subplots(figsize=(12, 8))\n",
    "plot_multicolor(df20190813.WITH_SPLICING, df20190813.WITHOUT_SPLICING, df20190813.PATHOGRP, ho, ax=ax)\n",
    "\n",
    "e20190813 = Ellipse((315, 115), width=280, height=150, angle=35, facecolor='none', edgecolor=\"blue\")\n",
    "k = ax.add_patch(e20190813)"
   ]
  },
  {
   "cell_type": "markdown",
   "metadata": {},
   "source": [
    "## Comparison of 20190812 and 20190813\n"
   ]
  },
  {
   "cell_type": "code",
   "execution_count": null,
   "metadata": {},
   "outputs": [],
   "source": [
    "fig, ax = plt.subplots(1, 2, figsize=(22, 8), dpi=200, sharey=True)\n",
    "plot_multicolor(df20190812.WITH_SPLICING, df20190812.WITHOUT_SPLICING, df20190812.PATHOGRP, ho, ax=ax[0])\n",
    "plot_multicolor(df20190813.WITH_SPLICING, df20190813.WITHOUT_SPLICING, df20190813.PATHOGRP, ho, ax=ax[1])\n",
    "\n",
    "e20190813 = Ellipse((315, 115), width=280, height=150, angle=35, facecolor='none', edgecolor=\"blue\")\n",
    "ax[0].add_patch(e20190813);\n",
    "\n",
    "# the same ellipse but for different plot\n",
    "e20190813 = Ellipse((315, 115), width=280, height=150, angle=35, facecolor='none', edgecolor=\"blue\")\n",
    "ax[1].add_patch(e20190813);"
   ]
  },
  {
   "cell_type": "markdown",
   "metadata": {},
   "source": [
    "## TODO - do analysis\n",
    "\n",
    "- if we can do anything with the variants with rank **-1**"
   ]
  }
 ],
 "metadata": {
  "kernelspec": {
   "display_name": "Eselator Python 3.7",
   "language": "python",
   "name": "eselator"
  },
  "language_info": {
   "codemirror_mode": {
    "name": "ipython",
    "version": 3
   },
   "file_extension": ".py",
   "mimetype": "text/x-python",
   "name": "python",
   "nbconvert_exporter": "python",
   "pygments_lexer": "ipython3",
   "version": "3.7.4"
  }
 },
 "nbformat": 4,
 "nbformat_minor": 2
}
