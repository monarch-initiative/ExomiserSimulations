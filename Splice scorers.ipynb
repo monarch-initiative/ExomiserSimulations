{
 "cells": [
  {
   "cell_type": "markdown",
   "metadata": {},
   "source": [
    "# Splice scorers\n",
    "\n",
    "\n",
    "This notebook shows distribution of scores of variants as calculated by *EselatorSimulations* code."
   ]
  },
  {
   "cell_type": "code",
   "execution_count": 1,
   "metadata": {},
   "outputs": [],
   "source": [
    "%matplotlib inline\n",
    "\n",
    "import pandas as pd\n",
    "import matplotlib.pyplot as plt\n",
    "import seaborn as sns\n",
    "\n",
    "sns.set(style=\"whitegrid\", palette=\"pastel\", color_codes=True)"
   ]
  },
  {
   "cell_type": "markdown",
   "metadata": {},
   "source": [
    "## Load the positive cases\n",
    "### Info\n",
    "The file `scorers_all.tsv` that is being read contains biocurated variants that are located in `hrmd/data/splicing/training/hca-1.0.7/json`. Variants have been exported into `data/eselator-simulations/phenopackets` using *Hpo Case Annotator*'s export function.\n",
    "\n",
    "### How to create\n",
    "This dataset has been created by running:\n",
    "\n",
    "```bash\n",
    "java -jar simulations-cli-0.2.0.jar --splice-scorer --exomiser.data-directory=/home/ielis/data/exomiser-data --output=/home/ielis/data/eselator-simulations/scorers_all.tsv\n",
    "--pp=/home/ielis/data/eselator-simulations/phenopackets/Aceto-2005-APC.json\n",
    "--pp=/home/ielis/data/eselator-simulations/phenopackets/Aguilar-Ramirez-2009-C5.json\n",
    "--pp=/home/ielis/data/eselator-simulations/phenopackets/Aldahmesh-2009-CTNS.json\n",
    "\n",
    "... // omitted for brevity\n",
    "\n",
    "--pp=/home/ielis/data/eselator-simulations/phenopackets/Zatkova-2004-NF1.json\n",
    "```"
   ]
  },
  {
   "cell_type": "code",
   "execution_count": 2,
   "metadata": {},
   "outputs": [
    {
     "data": {
      "text/html": [
       "<div>\n",
       "<style scoped>\n",
       "    .dataframe tbody tr th:only-of-type {\n",
       "        vertical-align: middle;\n",
       "    }\n",
       "\n",
       "    .dataframe tbody tr th {\n",
       "        vertical-align: top;\n",
       "    }\n",
       "\n",
       "    .dataframe thead th {\n",
       "        text-align: right;\n",
       "    }\n",
       "</style>\n",
       "<table border=\"1\" class=\"dataframe\">\n",
       "  <thead>\n",
       "    <tr style=\"text-align: right;\">\n",
       "      <th></th>\n",
       "      <th>PP_ID</th>\n",
       "      <th>VARIANT</th>\n",
       "      <th>VCLASS</th>\n",
       "      <th>PATHOMECHANISM</th>\n",
       "      <th>CONSEQUENCE</th>\n",
       "      <th>CANONICAL_ACCEPTOR</th>\n",
       "      <th>CANONICAL_DONOR</th>\n",
       "      <th>CRYPTIC_ACCEPTOR</th>\n",
       "      <th>CRYPTIC_ACCEPTOR_FOR_ACCEPTOR_VARIANTS</th>\n",
       "      <th>CRYPTIC_DONOR</th>\n",
       "      <th>CRYPTIC_DONOR_FOR_DONOR_VARIANTS</th>\n",
       "      <th>HEXAMER</th>\n",
       "    </tr>\n",
       "  </thead>\n",
       "  <tbody>\n",
       "    <tr>\n",
       "      <th>0</th>\n",
       "      <td>Aceto-2005-APC</td>\n",
       "      <td>5:112128142G&gt;A</td>\n",
       "      <td>splicing</td>\n",
       "      <td>splicing|3ss|disrupted</td>\n",
       "      <td>Alternative/cryptic 3' splice site</td>\n",
       "      <td>9.960002</td>\n",
       "      <td>NaN</td>\n",
       "      <td>NaN</td>\n",
       "      <td>8.934604</td>\n",
       "      <td>NaN</td>\n",
       "      <td>NaN</td>\n",
       "      <td>NaN</td>\n",
       "    </tr>\n",
       "  </tbody>\n",
       "</table>\n",
       "</div>"
      ],
      "text/plain": [
       "            PP_ID         VARIANT    VCLASS          PATHOMECHANISM  \\\n",
       "0  Aceto-2005-APC  5:112128142G>A  splicing  splicing|3ss|disrupted   \n",
       "\n",
       "                          CONSEQUENCE  CANONICAL_ACCEPTOR  CANONICAL_DONOR  \\\n",
       "0  Alternative/cryptic 3' splice site            9.960002              NaN   \n",
       "\n",
       "   CRYPTIC_ACCEPTOR  CRYPTIC_ACCEPTOR_FOR_ACCEPTOR_VARIANTS  CRYPTIC_DONOR  \\\n",
       "0               NaN                                8.934604            NaN   \n",
       "\n",
       "   CRYPTIC_DONOR_FOR_DONOR_VARIANTS  HEXAMER  \n",
       "0                               NaN      NaN  "
      ]
     },
     "execution_count": 2,
     "metadata": {},
     "output_type": "execute_result"
    }
   ],
   "source": [
    "POS_PATH = \"/home/ielis/data/eselator-simulations/scorers_all.tsv\"\n",
    "positive_cases = pd.read_table(POS_PATH)\n",
    "positive_cases.head(n=1)"
   ]
  },
  {
   "cell_type": "markdown",
   "metadata": {},
   "source": [
    "## Load ClinVar variants\n",
    "\n",
    "### Info\n",
    "\n",
    "The file `clinvar.tsv` contains ClinVar variants with `CLNSIG=Benign`. The variants have been annotated with splicing scorers.\n",
    "\n",
    "### How to create\n",
    "This dataset has been created by running\n",
    "\n",
    "```bash\n",
    "java -jar simulations-cli-0.2.0.jar --clinvar-scorer --exomiser.data-directory=/home/ielis/data/exomiser-data --clinvar-vcf=/home/ielis/tempelhof/clinVar/20190408/clinvar.filtered.vcf.gz --output=/home/ielis/data/eselator-simulations/clinvar.tsv\n",
    "```"
   ]
  },
  {
   "cell_type": "code",
   "execution_count": 3,
   "metadata": {},
   "outputs": [
    {
     "data": {
      "text/html": [
       "<div>\n",
       "<style scoped>\n",
       "    .dataframe tbody tr th:only-of-type {\n",
       "        vertical-align: middle;\n",
       "    }\n",
       "\n",
       "    .dataframe tbody tr th {\n",
       "        vertical-align: top;\n",
       "    }\n",
       "\n",
       "    .dataframe thead th {\n",
       "        text-align: right;\n",
       "    }\n",
       "</style>\n",
       "<table border=\"1\" class=\"dataframe\">\n",
       "  <thead>\n",
       "    <tr style=\"text-align: right;\">\n",
       "      <th></th>\n",
       "      <th>VARIANT</th>\n",
       "      <th>CANONICAL_ACCEPTOR</th>\n",
       "      <th>CANONICAL_DONOR</th>\n",
       "      <th>CRYPTIC_ACCEPTOR</th>\n",
       "      <th>CRYPTIC_ACCEPTOR_FOR_ACCEPTOR_VARIANTS</th>\n",
       "      <th>CRYPTIC_DONOR</th>\n",
       "      <th>CRYPTIC_DONOR_FOR_DONOR_VARIANTS</th>\n",
       "      <th>HEXAMER</th>\n",
       "    </tr>\n",
       "  </thead>\n",
       "  <tbody>\n",
       "    <tr>\n",
       "      <th>0</th>\n",
       "      <td>1:949422G&gt;A</td>\n",
       "      <td>NaN</td>\n",
       "      <td>NaN</td>\n",
       "      <td>-3.78016</td>\n",
       "      <td>NaN</td>\n",
       "      <td>-4.289216</td>\n",
       "      <td>NaN</td>\n",
       "      <td>0.801761</td>\n",
       "    </tr>\n",
       "  </tbody>\n",
       "</table>\n",
       "</div>"
      ],
      "text/plain": [
       "       VARIANT  CANONICAL_ACCEPTOR  CANONICAL_DONOR  CRYPTIC_ACCEPTOR  \\\n",
       "0  1:949422G>A                 NaN              NaN          -3.78016   \n",
       "\n",
       "   CRYPTIC_ACCEPTOR_FOR_ACCEPTOR_VARIANTS  CRYPTIC_DONOR  \\\n",
       "0                                     NaN      -4.289216   \n",
       "\n",
       "   CRYPTIC_DONOR_FOR_DONOR_VARIANTS   HEXAMER  \n",
       "0                               NaN  0.801761  "
      ]
     },
     "execution_count": 3,
     "metadata": {},
     "output_type": "execute_result"
    }
   ],
   "source": [
    "CLINVAR_PATH = \"/home/ielis/data/eselator-simulations/clinvar.tsv\"\n",
    "\n",
    "clinvar_benign_cases = pd.read_table(CLINVAR_PATH)\n",
    "clinvar_benign_cases.head(n=1)"
   ]
  },
  {
   "cell_type": "markdown",
   "metadata": {},
   "source": [
    "## Merge scores into a single dataframe\n",
    "\n",
    "Both `clinvar_benign_cases` and `positive_cases` share score columns: `['CANONICAL_ACCEPTOR', 'CANONICAL_DONOR', 'CRYPTIC_ACCEPTOR', 'CRYPTIC_ACCEPTOR_FOR_ACCEPTOR_VARIANTS', 'CRYPTIC_DONOR', 'CRYPTIC_DONOR_FOR_DONOR_VARIANTS', 'HEXAMER']`.\n",
    "\n",
    "Here, additional `SOURCE` column will be added, where values `ClinVar`, and `Curated` will be present."
   ]
  },
  {
   "cell_type": "code",
   "execution_count": 4,
   "metadata": {},
   "outputs": [
    {
     "data": {
      "text/html": [
       "<div>\n",
       "<style scoped>\n",
       "    .dataframe tbody tr th:only-of-type {\n",
       "        vertical-align: middle;\n",
       "    }\n",
       "\n",
       "    .dataframe tbody tr th {\n",
       "        vertical-align: top;\n",
       "    }\n",
       "\n",
       "    .dataframe thead th {\n",
       "        text-align: right;\n",
       "    }\n",
       "</style>\n",
       "<table border=\"1\" class=\"dataframe\">\n",
       "  <thead>\n",
       "    <tr style=\"text-align: right;\">\n",
       "      <th></th>\n",
       "      <th>VARIANT</th>\n",
       "      <th>SOURCE</th>\n",
       "      <th>SCORER</th>\n",
       "      <th>SCORE</th>\n",
       "    </tr>\n",
       "  </thead>\n",
       "  <tbody>\n",
       "    <tr>\n",
       "      <th>0</th>\n",
       "      <td>1:949422G&gt;A</td>\n",
       "      <td>ClinVar</td>\n",
       "      <td>CANONICAL_DONOR</td>\n",
       "      <td>NaN</td>\n",
       "    </tr>\n",
       "  </tbody>\n",
       "</table>\n",
       "</div>"
      ],
      "text/plain": [
       "       VARIANT   SOURCE           SCORER  SCORE\n",
       "0  1:949422G>A  ClinVar  CANONICAL_DONOR    NaN"
      ]
     },
     "execution_count": 4,
     "metadata": {},
     "output_type": "execute_result"
    }
   ],
   "source": [
    "SCORER_COLUMNS = ['CANONICAL_DONOR',  'CRYPTIC_DONOR', 'CRYPTIC_DONOR_FOR_DONOR_VARIANTS',\n",
    "                  'CANONICAL_ACCEPTOR','CRYPTIC_ACCEPTOR', 'CRYPTIC_ACCEPTOR_FOR_ACCEPTOR_VARIANTS',\n",
    "                  'HEXAMER']\n",
    "COLUMNS = ['VARIANT'] + SCORER_COLUMNS\n",
    "\n",
    "# Join positive and ClinVar benign variant data\n",
    "joined = pd.concat([clinvar_benign_cases.loc[:, COLUMNS].assign(SOURCE='ClinVar'), \n",
    " positive_cases.loc[:, COLUMNS].assign(SOURCE='Curated')])\n",
    "\n",
    "# Melt to make plotting easier\n",
    "id_vars = [\"VARIANT\", \"SOURCE\"]\n",
    "joined_melted = joined.melt(id_vars=id_vars, value_vars=SCORER_COLUMNS, var_name=\"SCORER\", value_name=\"SCORE\")\n",
    "joined_melted.head(n=1)"
   ]
  },
  {
   "cell_type": "code",
   "execution_count": 5,
   "metadata": {
    "scrolled": false
   },
   "outputs": [
    {
     "name": "stderr",
     "output_type": "stream",
     "text": [
      "/home/ielis/anaconda3/envs/eselearner/lib/python3.6/site-packages/scipy/stats/stats.py:1713: FutureWarning: Using a non-tuple sequence for multidimensional indexing is deprecated; use `arr[tuple(seq)]` instead of `arr[seq]`. In the future this will be interpreted as an array index, `arr[np.array(seq)]`, which will result either in an error or a different result.\n",
      "  return np.add.reduce(sorted[indexer] * weights, axis=axis) / sumval\n"
     ]
    },
    {
     "data": {
      "image/png": "[encoded data removed]",
      "text/plain": [
       "<Figure size 720x432 with 1 Axes>"
      ]
     },
     "metadata": {
      "needs_background": "light"
     },
     "output_type": "display_data"
    }
   ],
   "source": [
    "fig, ax = plt.subplots(figsize=(10, 6))\n",
    "split_violin = sns.violinplot(x=\"SCORER\", y=\"SCORE\", hue=\"SOURCE\", split=True, data=joined_melted, ax=ax,\n",
    "                              palette={\"Curated\": \"red\", \"ClinVar\": \"green\"})\n",
    "xticklabels = plt.setp(split_violin.get_xticklabels(), rotation='vertical')\n",
    "ax_title = ax.set_title(\"ClinVar benign vs. Curated pathogenic\", size='x-large', weight='bold')"
   ]
  },
  {
   "cell_type": "code",
   "execution_count": 6,
   "metadata": {},
   "outputs": [],
   "source": [
    "# hexa_swarm = sns.swarmplot(y=\"HEXAMER\", hue=\"SOURCE\", data=positive_cases.loc[:, SCORER_COLUMNS].assign(SOURCE='Curated'))"
   ]
  },
  {
   "cell_type": "code",
   "execution_count": 7,
   "metadata": {},
   "outputs": [],
   "source": [
    "# hexa_cat = sns.catplot(x=\"SOURCE\", y=\"HEXAMER\", data=joined)"
   ]
  }
 ],
 "metadata": {
  "kernelspec": {
   "display_name": "Python 3.6 (eselearner)",
   "language": "python",
   "name": "eselearner"
  },
  "language_info": {
   "codemirror_mode": {
    "name": "ipython",
    "version": 3
   },
   "file_extension": ".py",
   "mimetype": "text/x-python",
   "name": "python",
   "nbconvert_exporter": "python",
   "pygments_lexer": "ipython3",
   "version": "3.6.6"
  }
 },
 "nbformat": 4,
 "nbformat_minor": 2
}
